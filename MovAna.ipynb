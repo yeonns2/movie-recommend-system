{
 "cells": [
  {
   "cell_type": "code",
   "execution_count": 1,
   "metadata": {},
   "outputs": [],
   "source": [
    "import sqlite3"
   ]
  },
  {
   "cell_type": "code",
   "execution_count": 54,
   "metadata": {},
   "outputs": [],
   "source": [
    "def getDbMov():\n",
    "    dbname='movie.db'\n",
    "    with sqlite3.connect(dbname) as conn:\n",
    "        cur=conn.cursor()\n",
    "        sql=\"\"\"select title,sum(point) pnt,count(title) cnt,rday from reviews\n",
    "        group by title,rday order by rday desc,cnt desc\"\"\"\n",
    "        res=cur.execute(sql)\n",
    "        result=res.fetchall()\n",
    "    return result"
   ]
  },
  {
   "cell_type": "code",
   "execution_count": 55,
   "metadata": {},
   "outputs": [],
   "source": [
    "def titlePrs(data):\n",
    "    dbname='movie.db'\n",
    "    checkid=data[0]\n",
    "    with sqlite3.connect(dbname) as conn:\n",
    "        cur=conn.cursor()\n",
    "        sql='select midx from movies where midx=\"{0}\"'.format(checkid)\n",
    "        res=cur.execute(sql)\n",
    "        resultid=res.fetchall()\n",
    "        if(resultid):\n",
    "            print(\"중복아이디가 있습니다.\")\n",
    "        else:\n",
    "            tmp=\"insert into movies (midx,mtitle,mdayavg,mcount,mday) values('{0}','{1}',{2},{3},{4})\"\n",
    "            sql=tmp.format(data[0],data[1],data[2],data[3],data[4])\n",
    "            #print(sql)\n",
    "            cur.execute(sql)\n",
    "            conn.commit()\n",
    "            print(\"데이터 입력:\"+data[0])\n",
    "        cur.close()"
   ]
  },
  {
   "cell_type": "code",
   "execution_count": 56,
   "metadata": {},
   "outputs": [],
   "source": [
    "def insMov(res):\n",
    "    for r in res:\n",
    "        mkey=r[0].replace(\" \",\"\")+str(r[3])\n",
    "        #print(mkey)\n",
    "        mtitle=r[0]\n",
    "        mavg=round(r[1]/r[2],2)\n",
    "        mcnt=r[2]\n",
    "        mday=r[3]\n",
    "        data=[mkey,mtitle,mavg,mcnt,mday]\n",
    "        titlePrs(data)"
   ]
  },
  {
   "cell_type": "code",
   "execution_count": null,
   "metadata": {},
   "outputs": [],
   "source": [
    "res=getDbMov()\n",
    "insMov(res)\n"
   ]
  },
  {
   "cell_type": "code",
   "execution_count": null,
   "metadata": {},
   "outputs": [],
   "source": []
  }
 ],
 "metadata": {
  "kernelspec": {
   "display_name": "Python 3",
   "language": "python",
   "name": "python3"
  },
  "language_info": {
   "codemirror_mode": {
    "name": "ipython",
    "version": 3
   },
   "file_extension": ".py",
   "mimetype": "text/x-python",
   "name": "python",
   "nbconvert_exporter": "python",
   "pygments_lexer": "ipython3",
   "version": "3.8.3"
  }
 },
 "nbformat": 4,
 "nbformat_minor": 4
}
