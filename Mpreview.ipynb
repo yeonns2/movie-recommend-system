{
 "cells": [
  {
   "cell_type": "code",
   "execution_count": 22,
   "metadata": {},
   "outputs": [],
   "source": [
    "import sqlite3\n",
    "import pandas as pd\n",
    "import matplotlib as mpl\n",
    "import matplotlib.pyplot as plt"
   ]
  },
  {
   "cell_type": "code",
   "execution_count": 61,
   "metadata": {},
   "outputs": [],
   "source": [
    "def titlePrs(wh=''):\n",
    "    dbname='movie.db'\n",
    "    with sqlite3.connect(dbname) as conn:\n",
    "        cur=conn.cursor()\n",
    "        sql='select * from movies '+wh+' order by mday '\n",
    "        res=cur.execute(sql)\n",
    "        result=res.fetchall()\n",
    "    return result"
   ]
  },
  {
   "cell_type": "code",
   "execution_count": 79,
   "metadata": {},
   "outputs": [
    {
     "name": "stdout",
     "output_type": "stream",
     "text": [
      "[0, 20200826, 20200827, 20200828, 20200829] [0, 1215, 1036, 759, 265]\n"
     ]
    }
   ],
   "source": [
    "res1=titlePrs(' where mtitle=\"테넷\" ')\n",
    "#print(res1[:10])\n",
    "xs=[0]\n",
    "ys1=[0]\n",
    "i=0\n",
    "for r in res1:\n",
    "    xs.append(r[6])\n",
    "    ys1.append(r[3])\n",
    "print(xs,ys1)"
   ]
  },
  {
   "cell_type": "code",
   "execution_count": 82,
   "metadata": {},
   "outputs": [
    {
     "name": "stdout",
     "output_type": "stream",
     "text": [
      "[20200825, 20200826, 20200827, 20200828, 20200829] [112, 426, 348, 251, 173]\n"
     ]
    }
   ],
   "source": [
    "res2=titlePrs(' where mtitle=\"반도\" ')\n",
    "#print(res1[:10])\n",
    "xs=[]\n",
    "ys2=[]\n",
    "i=0\n",
    "for r in res2:\n",
    "    xs.append(r[6]) #날짜\n",
    "    ys2.append(r[3]) #평점 수\n",
    "print(xs,ys2)"
   ]
  },
  {
   "cell_type": "code",
   "execution_count": 85,
   "metadata": {},
   "outputs": [
    {
     "data": {
      "image/png": "[encoded data removed]",
      "text/plain": [
       "<Figure size 432x288 with 1 Axes>"
      ]
     },
     "metadata": {
      "needs_background": "light"
     },
     "output_type": "display_data"
    }
   ],
   "source": [
    "\n",
    "plt.plot(xs,ys2,label='bando')\n",
    "plt.plot(xs,ys1,label='tenet')\n",
    "plt.legend()\n",
    "plt.title(\"trend of movie\")\n",
    "plt.xlabel(\"day\")\n",
    "plt.ylabel(\"count\")\n",
    "\n",
    "plt.show()\n"
   ]
  },
  {
   "cell_type": "code",
   "execution_count": 44,
   "metadata": {},
   "outputs": [
    {
     "data": {
      "text/html": [
       "<div>\n",
       "<style scoped>\n",
       "    .dataframe tbody tr th:only-of-type {\n",
       "        vertical-align: middle;\n",
       "    }\n",
       "\n",
       "    .dataframe tbody tr th {\n",
       "        vertical-align: top;\n",
       "    }\n",
       "\n",
       "    .dataframe thead th {\n",
       "        text-align: right;\n",
       "    }\n",
       "</style>\n",
       "<table border=\"1\" class=\"dataframe\">\n",
       "  <thead>\n",
       "    <tr style=\"text-align: right;\">\n",
       "      <th></th>\n",
       "      <th>key</th>\n",
       "      <th>title</th>\n",
       "      <th>avg</th>\n",
       "      <th>cnt</th>\n",
       "      <th>pos</th>\n",
       "      <th>neg</th>\n",
       "      <th>day</th>\n",
       "    </tr>\n",
       "  </thead>\n",
       "  <tbody>\n",
       "    <tr>\n",
       "      <th>0</th>\n",
       "      <td>반도20200825</td>\n",
       "      <td>반도</td>\n",
       "      <td>4.48</td>\n",
       "      <td>112</td>\n",
       "      <td>None</td>\n",
       "      <td>None</td>\n",
       "      <td>20200825</td>\n",
       "    </tr>\n",
       "    <tr>\n",
       "      <th>1</th>\n",
       "      <td>강철비2:정상회담20200825</td>\n",
       "      <td>강철비2: 정상회담</td>\n",
       "      <td>4.60</td>\n",
       "      <td>40</td>\n",
       "      <td>None</td>\n",
       "      <td>None</td>\n",
       "      <td>20200825</td>\n",
       "    </tr>\n",
       "    <tr>\n",
       "      <th>2</th>\n",
       "      <td>다만악에서구하소서20200825</td>\n",
       "      <td>다만 악에서 구하소서</td>\n",
       "      <td>8.15</td>\n",
       "      <td>34</td>\n",
       "      <td>None</td>\n",
       "      <td>None</td>\n",
       "      <td>20200825</td>\n",
       "    </tr>\n",
       "    <tr>\n",
       "      <th>3</th>\n",
       "      <td>69세20200825</td>\n",
       "      <td>69세</td>\n",
       "      <td>7.23</td>\n",
       "      <td>13</td>\n",
       "      <td>None</td>\n",
       "      <td>None</td>\n",
       "      <td>20200825</td>\n",
       "    </tr>\n",
       "    <tr>\n",
       "      <th>4</th>\n",
       "      <td>블라인드사이드20200825</td>\n",
       "      <td>블라인드 사이드</td>\n",
       "      <td>9.91</td>\n",
       "      <td>11</td>\n",
       "      <td>None</td>\n",
       "      <td>None</td>\n",
       "      <td>20200825</td>\n",
       "    </tr>\n",
       "  </tbody>\n",
       "</table>\n",
       "</div>"
      ],
      "text/plain": [
       "                 key        title   avg  cnt   pos   neg       day\n",
       "0         반도20200825           반도  4.48  112  None  None  20200825\n",
       "1  강철비2:정상회담20200825   강철비2: 정상회담  4.60   40  None  None  20200825\n",
       "2  다만악에서구하소서20200825  다만 악에서 구하소서  8.15   34  None  None  20200825\n",
       "3        69세20200825          69세  7.23   13  None  None  20200825\n",
       "4    블라인드사이드20200825     블라인드 사이드  9.91   11  None  None  20200825"
      ]
     },
     "execution_count": 44,
     "metadata": {},
     "output_type": "execute_result"
    }
   ],
   "source": [
    "res=titlePrs('')\n",
    "col=['key','title','avg','cnt','pos','neg','day']\n",
    "df=pd.DataFrame(data=res,columns=col)\n",
    "df.head()\n"
   ]
  },
  {
   "cell_type": "code",
   "execution_count": 87,
   "metadata": {},
   "outputs": [
    {
     "data": {
      "text/html": [
       "<div>\n",
       "<style scoped>\n",
       "    .dataframe tbody tr th:only-of-type {\n",
       "        vertical-align: middle;\n",
       "    }\n",
       "\n",
       "    .dataframe tbody tr th {\n",
       "        vertical-align: top;\n",
       "    }\n",
       "\n",
       "    .dataframe thead th {\n",
       "        text-align: right;\n",
       "    }\n",
       "</style>\n",
       "<table border=\"1\" class=\"dataframe\">\n",
       "  <thead>\n",
       "    <tr style=\"text-align: right;\">\n",
       "      <th></th>\n",
       "      <th>title</th>\n",
       "      <th>cnt</th>\n",
       "      <th>day</th>\n",
       "    </tr>\n",
       "  </thead>\n",
       "  <tbody>\n",
       "    <tr>\n",
       "      <th>0</th>\n",
       "      <td>반도</td>\n",
       "      <td>112</td>\n",
       "      <td>20200825</td>\n",
       "    </tr>\n",
       "    <tr>\n",
       "      <th>191</th>\n",
       "      <td>반도</td>\n",
       "      <td>426</td>\n",
       "      <td>20200826</td>\n",
       "    </tr>\n",
       "    <tr>\n",
       "      <th>858</th>\n",
       "      <td>반도</td>\n",
       "      <td>348</td>\n",
       "      <td>20200827</td>\n",
       "    </tr>\n",
       "    <tr>\n",
       "      <th>1574</th>\n",
       "      <td>반도</td>\n",
       "      <td>251</td>\n",
       "      <td>20200828</td>\n",
       "    </tr>\n",
       "    <tr>\n",
       "      <th>2240</th>\n",
       "      <td>반도</td>\n",
       "      <td>173</td>\n",
       "      <td>20200829</td>\n",
       "    </tr>\n",
       "    <tr>\n",
       "      <th>190</th>\n",
       "      <td>테넷</td>\n",
       "      <td>1215</td>\n",
       "      <td>20200826</td>\n",
       "    </tr>\n",
       "    <tr>\n",
       "      <th>857</th>\n",
       "      <td>테넷</td>\n",
       "      <td>1036</td>\n",
       "      <td>20200827</td>\n",
       "    </tr>\n",
       "    <tr>\n",
       "      <th>1573</th>\n",
       "      <td>테넷</td>\n",
       "      <td>759</td>\n",
       "      <td>20200828</td>\n",
       "    </tr>\n",
       "    <tr>\n",
       "      <th>2239</th>\n",
       "      <td>테넷</td>\n",
       "      <td>265</td>\n",
       "      <td>20200829</td>\n",
       "    </tr>\n",
       "  </tbody>\n",
       "</table>\n",
       "</div>"
      ],
      "text/plain": [
       "     title   cnt       day\n",
       "0       반도   112  20200825\n",
       "191     반도   426  20200826\n",
       "858     반도   348  20200827\n",
       "1574    반도   251  20200828\n",
       "2240    반도   173  20200829\n",
       "190     테넷  1215  20200826\n",
       "857     테넷  1036  20200827\n",
       "1573    테넷   759  20200828\n",
       "2239    테넷   265  20200829"
      ]
     },
     "execution_count": 87,
     "metadata": {},
     "output_type": "execute_result"
    }
   ],
   "source": [
    "v1= df['title']=='테넷'\n",
    "v2= df['title']=='반도'\n",
    "tgtdf=df[v1|v2 ].sort_values(by=['title','day'])\n",
    "tgtdf=tgtdf[['title','cnt','day']]\n",
    "tgtdf.head(10)"
   ]
  },
  {
   "cell_type": "code",
   "execution_count": 60,
   "metadata": {},
   "outputs": [
    {
     "data": {
      "text/html": [
       "<div>\n",
       "<style scoped>\n",
       "    .dataframe tbody tr th:only-of-type {\n",
       "        vertical-align: middle;\n",
       "    }\n",
       "\n",
       "    .dataframe tbody tr th {\n",
       "        vertical-align: top;\n",
       "    }\n",
       "\n",
       "    .dataframe thead th {\n",
       "        text-align: right;\n",
       "    }\n",
       "</style>\n",
       "<table border=\"1\" class=\"dataframe\">\n",
       "  <thead>\n",
       "    <tr style=\"text-align: right;\">\n",
       "      <th></th>\n",
       "      <th>title</th>\n",
       "      <th>cnt</th>\n",
       "      <th>day</th>\n",
       "    </tr>\n",
       "  </thead>\n",
       "  <tbody>\n",
       "    <tr>\n",
       "      <th>0</th>\n",
       "      <td>반도</td>\n",
       "      <td>112</td>\n",
       "      <td>20200825</td>\n",
       "    </tr>\n",
       "    <tr>\n",
       "      <th>191</th>\n",
       "      <td>반도</td>\n",
       "      <td>426</td>\n",
       "      <td>20200826</td>\n",
       "    </tr>\n",
       "    <tr>\n",
       "      <th>858</th>\n",
       "      <td>반도</td>\n",
       "      <td>348</td>\n",
       "      <td>20200827</td>\n",
       "    </tr>\n",
       "    <tr>\n",
       "      <th>1574</th>\n",
       "      <td>반도</td>\n",
       "      <td>251</td>\n",
       "      <td>20200828</td>\n",
       "    </tr>\n",
       "    <tr>\n",
       "      <th>2240</th>\n",
       "      <td>반도</td>\n",
       "      <td>173</td>\n",
       "      <td>20200829</td>\n",
       "    </tr>\n",
       "    <tr>\n",
       "      <th>190</th>\n",
       "      <td>테넷</td>\n",
       "      <td>1215</td>\n",
       "      <td>20200826</td>\n",
       "    </tr>\n",
       "    <tr>\n",
       "      <th>857</th>\n",
       "      <td>테넷</td>\n",
       "      <td>1036</td>\n",
       "      <td>20200827</td>\n",
       "    </tr>\n",
       "    <tr>\n",
       "      <th>1573</th>\n",
       "      <td>테넷</td>\n",
       "      <td>759</td>\n",
       "      <td>20200828</td>\n",
       "    </tr>\n",
       "    <tr>\n",
       "      <th>2239</th>\n",
       "      <td>테넷</td>\n",
       "      <td>265</td>\n",
       "      <td>20200829</td>\n",
       "    </tr>\n",
       "  </tbody>\n",
       "</table>\n",
       "</div>"
      ],
      "text/plain": [
       "     title   cnt       day\n",
       "0       반도   112  20200825\n",
       "191     반도   426  20200826\n",
       "858     반도   348  20200827\n",
       "1574    반도   251  20200828\n",
       "2240    반도   173  20200829\n",
       "190     테넷  1215  20200826\n",
       "857     테넷  1036  20200827\n",
       "1573    테넷   759  20200828\n",
       "2239    테넷   265  20200829"
      ]
     },
     "execution_count": 60,
     "metadata": {},
     "output_type": "execute_result"
    },
    {
     "data": {
      "image/png": "[encoded data removed]",
      "text/plain": [
       "<Figure size 432x288 with 1 Axes>"
      ]
     },
     "metadata": {
      "needs_background": "light"
     },
     "output_type": "display_data"
    }
   ],
   "source": [
    "\n",
    "tgtdf.plot.bar()\n",
    "plt.title('movie trend')\n",
    "tgtdf.tail(10)"
   ]
  },
  {
   "cell_type": "code",
   "execution_count": null,
   "metadata": {},
   "outputs": [],
   "source": []
  }
 ],
 "metadata": {
  "kernelspec": {
   "display_name": "Python 3",
   "language": "python",
   "name": "python3"
  },
  "language_info": {
   "codemirror_mode": {
    "name": "ipython",
    "version": 3
   },
   "file_extension": ".py",
   "mimetype": "text/x-python",
   "name": "python",
   "nbconvert_exporter": "python",
   "pygments_lexer": "ipython3",
   "version": "3.8.3"
  }
 },
 "nbformat": 4,
 "nbformat_minor": 4
}
