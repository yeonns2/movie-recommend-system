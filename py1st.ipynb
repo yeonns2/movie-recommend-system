{
 "cells": [
  {
   "cell_type": "markdown",
   "metadata": {},
   "source": [
    "###  파이선 기초\n",
    "* 인터프리터 언어\n",
    "* 객체형 언어\n",
    "* 데이터 형식 지정 안함\n",
    "####  변수\n",
    "* 명명규칙: 알파뉴메릭 a-zA-Z0-9_ 반드시 숫자로 시작 불가능\n",
    "* 데이터 저장장소"
   ]
  },
  {
   "cell_type": "code",
   "execution_count": 15,
   "metadata": {},
   "outputs": [
    {
     "data": {
      "text/plain": [
       "str"
      ]
     },
     "execution_count": 15,
     "metadata": {},
     "output_type": "execute_result"
    }
   ],
   "source": [
    "# 주석\n",
    "# 1b=2 숫자로 시작 불가\n",
    "# b b=2  빈칸 사용 불가\n",
    "a=4\n",
    "b='안녕하세요'\n",
    "type(b)"
   ]
  },
  {
   "cell_type": "code",
   "execution_count": 17,
   "metadata": {},
   "outputs": [
    {
     "data": {
      "text/plain": [
       "int"
      ]
     },
     "execution_count": 17,
     "metadata": {},
     "output_type": "execute_result"
    }
   ],
   "source": [
    "# //데이터 타입 지정이 유연함\n",
    "b=3\n",
    "type(b)"
   ]
  },
  {
   "cell_type": "markdown",
   "metadata": {},
   "source": [
    "#### 사칙연산\n",
    "##### + - * /\n",
    "* 몫연산// 나머지연산 %"
   ]
  },
  {
   "cell_type": "code",
   "execution_count": 24,
   "metadata": {},
   "outputs": [
    {
     "name": "stdout",
     "output_type": "stream",
     "text": [
      "결과: 1.3333333333333333 <class 'float'>\n"
     ]
    }
   ],
   "source": [
    "c=a+b\n",
    "c=a-b\n",
    "c=a*b\n",
    "c=a/b\n",
    "print(\"결과:\",c,type(c))"
   ]
  },
  {
   "cell_type": "code",
   "execution_count": 28,
   "metadata": {},
   "outputs": [
    {
     "name": "stdout",
     "output_type": "stream",
     "text": [
      "몫: 1 <class 'int'>\n",
      "나머지: 2 <class 'int'>\n"
     ]
    }
   ],
   "source": [
    "c=5//3\n",
    "print(\"몫:\",c,type(c))\n",
    "c=5%3\n",
    "print(\"나머지:\",c,type(c))"
   ]
  },
  {
   "cell_type": "markdown",
   "metadata": {},
   "source": [
    "#### 비교연산자\n",
    "* > < >= <= == != "
   ]
  },
  {
   "cell_type": "code",
   "execution_count": 34,
   "metadata": {},
   "outputs": [
    {
     "data": {
      "text/plain": [
       "True"
      ]
     },
     "execution_count": 34,
     "metadata": {},
     "output_type": "execute_result"
    }
   ],
   "source": [
    "a<=b\n",
    "a!=b"
   ]
  },
  {
   "cell_type": "markdown",
   "metadata": {},
   "source": [
    "#### 조건 분기분\n",
    "* if 조건문 :조건인 참일경우 블럭시작{} 없음 "
   ]
  },
  {
   "cell_type": "code",
   "execution_count": 44,
   "metadata": {},
   "outputs": [
    {
     "name": "stdout",
     "output_type": "stream",
     "text": [
      "a: 4\n",
      "b: 3\n",
      "a는 b보다 작습니다.\n"
     ]
    }
   ],
   "source": [
    "if a<b :\n",
    "    print('a:',a)\n",
    "    print('a는 b보다 큽니다.')  \n",
    "else:\n",
    "    print('a:',a)\n",
    "    print('b:',b)\n",
    "    print('a는 b보다 작습니다.') "
   ]
  },
  {
   "cell_type": "code",
   "execution_count": 47,
   "metadata": {},
   "outputs": [
    {
     "name": "stdout",
     "output_type": "stream",
     "text": [
      "성적은  C  입니다.\n"
     ]
    }
   ],
   "source": [
    "###  중첩 if\n",
    "#### 성적출력하기\n",
    "score =75\n",
    "if( score>=90):\n",
    "    grade='A'\n",
    "else:\n",
    "    if(score <90 and score>80):\n",
    "        grade='B'\n",
    "    else:\n",
    "        if(score>70):\n",
    "            grade='C'\n",
    "        else:\n",
    "            grade='Fail'\n",
    "print('성적은 ',grade,' 입니다.')\n"
   ]
  },
  {
   "cell_type": "code",
   "execution_count": 52,
   "metadata": {},
   "outputs": [
    {
     "name": "stdout",
     "output_type": "stream",
     "text": [
      "성적은  sC  입니다.\n"
     ]
    }
   ],
   "source": [
    "### 연속if\n",
    "if score>=90:\n",
    "    grade='sA'\n",
    "elif score>=80:\n",
    "    grade='sB'\n",
    "elif score>=70:\n",
    "    grade='sC'\n",
    "else:\n",
    "    grade='sF'\n",
    "print('성적은 ',grade,' 입니다.')    "
   ]
  },
  {
   "cell_type": "markdown",
   "metadata": {},
   "source": [
    "#### 반복문\n",
    "* for 요소 in 그룹:\n",
    "* while 조건문\n"
   ]
  },
  {
   "cell_type": "code",
   "execution_count": 57,
   "metadata": {},
   "outputs": [
    {
     "name": "stdout",
     "output_type": "stream",
     "text": [
      "2\n",
      "5\n",
      "8\n"
     ]
    }
   ],
   "source": [
    "#for(int i=0;i<10;i++)\n",
    "for i in range(2,10,3):# 시작,끝,step\n",
    "    print(i)"
   ]
  },
  {
   "cell_type": "code",
   "execution_count": 63,
   "metadata": {},
   "outputs": [
    {
     "name": "stdout",
     "output_type": "stream",
     "text": [
      "1\n",
      "2\n",
      "3\n",
      "4\n",
      "5\n",
      "6\n",
      "7\n",
      "8\n",
      "9\n",
      "10\n"
     ]
    }
   ],
   "source": [
    "i=0 # 초기화\n",
    "while i<10: # 조건\n",
    "    i+=1 #조건 변경식 i++ 증감연산자 없음\n",
    "    print(i)"
   ]
  },
  {
   "cell_type": "markdown",
   "metadata": {},
   "source": [
    "# 구구단 표 만들기\n",
    "* 3으로 나눠지는수 옆에 * \n",
    "* 4로 나눠지는수 옆에 =\n",
    "* 1-9 단"
   ]
  },
  {
   "cell_type": "markdown",
   "metadata": {},
   "source": [
    "### 이스케이프 문자열\n",
    "* \\n : 개행문자\n",
    "* \\t : 탭문자"
   ]
  },
  {
   "cell_type": "code",
   "execution_count": 71,
   "metadata": {},
   "outputs": [
    {
     "name": "stdout",
     "output_type": "stream",
     "text": [
      "\n",
      "\n",
      "1\t2\t3 *\t4 =\t5\t6 *\t7\t8 =\t9 *\t\n",
      "\n",
      "2\t4 =\t6 *\t8 =\t10\t12 *\t14\t16 =\t18 *\t\n",
      "\n",
      "3 *\t6 *\t9 *\t12 *\t15 *\t18 *\t21 *\t24 *\t27 *\t\n",
      "\n",
      "4 =\t8 =\t12 *\t16 =\t20 =\t24 *\t28 =\t32 =\t36 *\t\n",
      "\n",
      "5\t10\t15 *\t20 =\t25\t30 *\t35\t40 =\t45 *\t\n",
      "\n",
      "6 *\t12 *\t18 *\t24 *\t30 *\t36 *\t42 *\t48 *\t54 *\t\n",
      "\n",
      "7\t14\t21 *\t28 =\t35\t42 *\t49\t56 =\t63 *\t\n",
      "\n",
      "8 =\t16 =\t24 *\t32 =\t40 =\t48 *\t56 =\t64 =\t72 *\t\n",
      "\n",
      "9 *\t18 *\t27 *\t36 *\t45 *\t54 *\t63 *\t72 *\t81 *\t"
     ]
    }
   ],
   "source": [
    "for i in range(1,10):\n",
    "    print('\\n')\n",
    "    for j in range(1,10):\n",
    "        c=i*j\n",
    "        if(c%3==0):\n",
    "            print(c,'*',end='\\t')\n",
    "        elif(c%4==0):\n",
    "            print(c,'=',end='\\t')\n",
    "        else:\n",
    "            print(c,end='\\t')\n",
    "        "
   ]
  },
  {
   "cell_type": "code",
   "execution_count": null,
   "metadata": {},
   "outputs": [],
   "source": []
  }
 ],
 "metadata": {
  "kernelspec": {
   "display_name": "Python 3",
   "language": "python",
   "name": "python3"
  },
  "language_info": {
   "codemirror_mode": {
    "name": "ipython",
    "version": 3
   },
   "file_extension": ".py",
   "mimetype": "text/x-python",
   "name": "python",
   "nbconvert_exporter": "python",
   "pygments_lexer": "ipython3",
   "version": "3.8.3"
  }
 },
 "nbformat": 4,
 "nbformat_minor": 4
}
