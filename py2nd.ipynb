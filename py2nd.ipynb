{
 "cells": [
  {
   "cell_type": "markdown",
   "metadata": {},
   "source": [
    "### 파이선 문자열\n"
   ]
  },
  {
   "cell_type": "code",
   "execution_count": 4,
   "metadata": {},
   "outputs": [
    {
     "data": {
      "text/plain": [
       "'안녕하세요'"
      ]
     },
     "execution_count": 4,
     "metadata": {},
     "output_type": "execute_result"
    }
   ],
   "source": [
    "s='안녕하세요'\n",
    "s"
   ]
  },
  {
   "cell_type": "code",
   "execution_count": 5,
   "metadata": {},
   "outputs": [
    {
     "data": {
      "text/plain": [
       "'여러분'"
      ]
     },
     "execution_count": 5,
     "metadata": {},
     "output_type": "execute_result"
    }
   ],
   "source": [
    "s=\"여러분\"\n",
    "s"
   ]
  },
  {
   "cell_type": "code",
   "execution_count": 9,
   "metadata": {},
   "outputs": [
    {
     "data": {
      "text/plain": [
       "\"여러분 '안녕' 하세요\""
      ]
     },
     "execution_count": 9,
     "metadata": {},
     "output_type": "execute_result"
    }
   ],
   "source": [
    "s=\"여러분 '안녕' 하세요\"\n",
    "s"
   ]
  },
  {
   "cell_type": "code",
   "execution_count": 10,
   "metadata": {},
   "outputs": [
    {
     "data": {
      "text/plain": [
       "12"
      ]
     },
     "execution_count": 10,
     "metadata": {},
     "output_type": "execute_result"
    }
   ],
   "source": [
    "# 글자수 세기\n",
    "len(s)"
   ]
  },
  {
   "cell_type": "code",
   "execution_count": 25,
   "metadata": {},
   "outputs": [
    {
     "name": "stdout",
     "output_type": "stream",
     "text": [
      "하\n"
     ]
    }
   ],
   "source": [
    "# 문자열 인덱싱 0부터\n",
    "a=\"안녕하세요\"\n",
    "print(a[2])\n"
   ]
  },
  {
   "cell_type": "code",
   "execution_count": 12,
   "metadata": {},
   "outputs": [
    {
     "data": {
      "text/plain": [
       "\"여러분 '안녕' 하세요\""
      ]
     },
     "execution_count": 12,
     "metadata": {},
     "output_type": "execute_result"
    }
   ],
   "source": [
    "# 슬라이스\n",
    "s[:] # 전체를 표시"
   ]
  },
  {
   "cell_type": "code",
   "execution_count": 17,
   "metadata": {},
   "outputs": [
    {
     "name": "stdout",
     "output_type": "stream",
     "text": [
      "부터: 분 '안녕' 하세요\n",
      "까지: 여러\n",
      " '안\n"
     ]
    }
   ],
   "source": [
    "# 좌우 슬라이스\n",
    "print(\"부터:\",s[2:])\n",
    "print(\"까지:\",s[:2])\n",
    "print(s[3:6])"
   ]
  },
  {
   "cell_type": "code",
   "execution_count": 21,
   "metadata": {},
   "outputs": [
    {
     "name": "stdout",
     "output_type": "stream",
     "text": [
      " 여러분 안녕하세요3\n"
     ]
    }
   ],
   "source": [
    "# 문자열 더하기\n",
    "a=' 여러분'\n",
    "b=' 안녕하세요'\n",
    "c=3\n",
    "print(a+b+str(c))"
   ]
  },
  {
   "cell_type": "code",
   "execution_count": 26,
   "metadata": {},
   "outputs": [
    {
     "name": "stdout",
     "output_type": "stream",
     "text": [
      "******************************\n",
      "==================== 문자열 연습 ====================\n"
     ]
    }
   ],
   "source": [
    "# 문자열 곱하기\n",
    "a='*'\n",
    "print(a*30)\n",
    "print('='*20,'문자열 연습','='*20)"
   ]
  },
  {
   "cell_type": "code",
   "execution_count": 30,
   "metadata": {},
   "outputs": [
    {
     "name": "stdout",
     "output_type": "stream",
     "text": [
      "세요\n",
      "여러분 안녕\n"
     ]
    }
   ],
   "source": [
    "# 고급슬라이스\n",
    "a='여러분 안녕하세요'\n",
    "print(a[-2:])\n",
    "print(a[:-3])"
   ]
  },
  {
   "cell_type": "code",
   "execution_count": 34,
   "metadata": {},
   "outputs": [
    {
     "name": "stdout",
     "output_type": "stream",
     "text": [
      "다음에 정차할역은 상암 디지털 역입니다. 내리실문은 오른쪽 입니다.\n"
     ]
    }
   ],
   "source": [
    "# 문자열 format\n",
    "a=\"다음에 정차할역은 {0} 역입니다. 내리실문은 {1} 입니다.\"\n",
    "s=a.format('상암 디지털','오른쪽')\n",
    "print(s)\n"
   ]
  },
  {
   "cell_type": "code",
   "execution_count": 35,
   "metadata": {},
   "outputs": [
    {
     "data": {
      "text/plain": [
       "13"
      ]
     },
     "execution_count": 35,
     "metadata": {},
     "output_type": "execute_result"
    }
   ],
   "source": [
    "s.find('디지털')"
   ]
  },
  {
   "cell_type": "code",
   "execution_count": 37,
   "metadata": {},
   "outputs": [
    {
     "data": {
      "text/plain": [
       "-1"
      ]
     },
     "execution_count": 37,
     "metadata": {},
     "output_type": "execute_result"
    }
   ],
   "source": [
    "s.find('구로') # 데이터를 찾지 못하면 -1"
   ]
  },
  {
   "cell_type": "code",
   "execution_count": 38,
   "metadata": {},
   "outputs": [
    {
     "data": {
      "text/plain": [
       "13"
      ]
     },
     "execution_count": 38,
     "metadata": {},
     "output_type": "execute_result"
    }
   ],
   "source": [
    "s.index('디지털')"
   ]
  },
  {
   "cell_type": "code",
   "execution_count": 43,
   "metadata": {},
   "outputs": [
    {
     "data": {
      "text/plain": [
       "'  또는,  또는,가 또는,나 또는,다 또는,라 또는,마 또는,바 또는,사 또는,  또는,  또는,  또는, '"
      ]
     },
     "execution_count": 43,
     "metadata": {},
     "output_type": "execute_result"
    }
   ],
   "source": [
    "#문자열 삽입\n",
    "a='  가나다라마바사    '\n",
    "' 또는,'.join(a)"
   ]
  },
  {
   "cell_type": "code",
   "execution_count": 47,
   "metadata": {},
   "outputs": [
    {
     "name": "stdout",
     "output_type": "stream",
     "text": [
      "\" 가나다라마바사     \"\n",
      "\"   가나다라마바사 \"\n",
      "\" 가나다라마바사 \"\n"
     ]
    }
   ],
   "source": [
    "ls=a.lstrip() # left 쪽 공백 제거\n",
    "print('\"',ls,'\"')\n",
    "rs=a.rstrip() # right 쪽 공백 제거\n",
    "print('\"',rs,'\"')\n",
    "ss=a.strip() # 좌우측 공백제거\n",
    "print('\"',ss,'\"')"
   ]
  },
  {
   "cell_type": "markdown",
   "metadata": {},
   "source": [
    "### 배열 자료형\n",
    "* 리스트[]\n",
    "* 튜플()\n",
    "* 딕셔너리{}\n"
   ]
  },
  {
   "cell_type": "code",
   "execution_count": 48,
   "metadata": {},
   "outputs": [
    {
     "data": {
      "text/plain": [
       "[1, 2, '3', '안녕', [1.1, '하세요']]"
      ]
     },
     "execution_count": 48,
     "metadata": {},
     "output_type": "execute_result"
    }
   ],
   "source": [
    "# 리스트 변경 가능 배열\n",
    "la= [1,2,'3','안녕',[1.1,'하세요']]\n",
    "la"
   ]
  },
  {
   "cell_type": "code",
   "execution_count": 49,
   "metadata": {},
   "outputs": [
    {
     "data": {
      "text/plain": [
       "(1, 2, '3', '안녕', [1.1, '하세요'])"
      ]
     },
     "execution_count": 49,
     "metadata": {},
     "output_type": "execute_result"
    }
   ],
   "source": [
    "#튜플()  변경 불가 배열\n",
    "ta= (1,2,'3','안녕',[1.1,'하세요'])\n",
    "ta"
   ]
  },
  {
   "cell_type": "code",
   "execution_count": 50,
   "metadata": {},
   "outputs": [
    {
     "data": {
      "text/plain": [
       "{'한국': '서울', '일본': '도쿄'}"
      ]
     },
     "execution_count": 50,
     "metadata": {},
     "output_type": "execute_result"
    }
   ],
   "source": [
    "#딕셔너리{} 키값 밸류값 형태\n",
    "da={'한국':'서울','일본':'도쿄'}\n",
    "da"
   ]
  },
  {
   "cell_type": "code",
   "execution_count": null,
   "metadata": {},
   "outputs": [],
   "source": [
    "### function 함수 선언하기\n",
    "def 함수명(매개변수):\n",
    "    기능\n",
    "    return 반환값\n",
    "#### 함수 실행하기\n",
    "함수명(매개변수)"
   ]
  }
 ],
 "metadata": {
  "kernelspec": {
   "display_name": "Python 3",
   "language": "python",
   "name": "python3"
  },
  "language_info": {
   "codemirror_mode": {
    "name": "ipython",
    "version": 3
   },
   "file_extension": ".py",
   "mimetype": "text/x-python",
   "name": "python",
   "nbconvert_exporter": "python",
   "pygments_lexer": "ipython3",
   "version": "3.8.3"
  }
 },
 "nbformat": 4,
 "nbformat_minor": 4
}
