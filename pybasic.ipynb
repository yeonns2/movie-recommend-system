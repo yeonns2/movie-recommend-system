{
 "cells": [
  {
   "cell_type": "markdown",
   "metadata": {},
   "source": [
    "# 파이썬 기초 h1\n",
    "## 파이썬 변수 h2\n",
    "### 파이썬 변수 h3\n",
    "#### 파이썬 변수 h4\n",
    "##### 파이썬 변수 h5\n",
    "###### 파이썬 변수 h6\n",
    "####### 파이썬 변수 h7\n",
    "***\n",
    "\n"
   ]
  },
  {
   "cell_type": "markdown",
   "metadata": {},
   "source": [
    "1. 순서형\n",
    "    2. 순서하위\n",
    "3. 순서형\n",
    "\n",
    "* 리스트\n",
    "    +하위리스트\n",
    "- 리스트\n",
    "    * 하위리스트\n",
    "    + 하위리스트"
   ]
  },
  {
   "cell_type": "raw",
   "metadata": {},
   "source": [
    "* ctrl+enter: 실행\n",
    "* shift+enter: 실행후 이동\n",
    "* a: 앞에 블럭생성\n",
    "* b: 뒤에 블럭생성\n",
    "* m: 마크다운\n",
    "* r: RAW\n",
    "* y: code\n",
    "* dd: 삭제 "
   ]
  },
  {
   "cell_type": "raw",
   "metadata": {},
   "source": [
    "<table>\n",
    "    <thead>\n",
    "        <tr>\n",
    "            <th></th><th></th><th></th><th></th><th></th>\n",
    "        <tr>\n",
    "    </thead>\n",
    "    <tbody>\n",
    "        <tr>\n",
    "            <td></td><td></td><td></td><td></td><td></td>\n",
    "        <tr>\n",
    "    </tbody>\n",
    "</table>"
   ]
  }
 ],
 "metadata": {
  "kernelspec": {
   "display_name": "Python 3",
   "language": "python",
   "name": "python3"
  },
  "language_info": {
   "codemirror_mode": {
    "name": "ipython",
    "version": 3
   },
   "file_extension": ".py",
   "mimetype": "text/x-python",
   "name": "python",
   "nbconvert_exporter": "python",
   "pygments_lexer": "ipython3",
   "version": "3.8.3"
  }
 },
 "nbformat": 4,
 "nbformat_minor": 4
}
